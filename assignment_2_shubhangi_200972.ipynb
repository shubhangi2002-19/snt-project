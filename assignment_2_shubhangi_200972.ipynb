{
  "nbformat": 4,
  "nbformat_minor": 0,
  "metadata": {
    "colab": {
      "name": "assignment 2_shubhangi_200972",
      "provenance": []
    },
    "kernelspec": {
      "name": "python3",
      "display_name": "Python 3"
    },
    "language_info": {
      "name": "python"
    }
  },
  "cells": [
    {
      "cell_type": "markdown",
      "source": [
        "# SENTIMENTAL AI\n",
        "# SnT Summer Project, BCS-IITK\n",
        "## Assignment-2\n",
        "\n",
        "Reference- https://github.com/07Agarg/Natural-Language-Processing-In-Tensorflow-Course/blob/master/Week%204/NLP_Week4_Exercise_Shakespeare_Question.ipynb "
      ],
      "metadata": {
        "id": "uKOZJpSejuwQ"
      }
    },
    {
      "cell_type": "code",
      "execution_count": null,
      "metadata": {
        "id": "UbboSp2kgxU2"
      },
      "outputs": [],
      "source": [
        "from tensorflow.keras.preprocessing.sequence import pad_sequences\n",
        "from tensorflow.keras.layers import Embedding, LSTM, Dense, Dropout, Bidirectional\n",
        "from tensorflow.keras.preprocessing.text import Tokenizer\n",
        "from tensorflow.keras.models import Sequential\n",
        "from tensorflow.keras.optimizers import Adam\n",
        "from tensorflow.keras.regularizers import Regularizer\n",
        "import tensorflow.keras.utils as ku \n",
        "import numpy as np "
      ]
    },
    {
      "cell_type": "code",
      "source": [
        "tokenizer = Tokenizer()\n",
        "!wget --no-check-certificate \\\n",
        "    https://storage.googleapis.com/laurencemoroney-blog.appspot.com/sonnets.txt \\\n",
        "    -O /tmp/sonnets.txt\n",
        "data = open('/tmp/sonnets.txt').read()\n",
        "\n",
        "\n",
        "\n",
        "corpus = data.lower().split(\"\\n\")\n",
        "tokenizer.fit_on_texts(corpus)\n",
        "total_words = len(tokenizer.word_index) + 1\n",
        "\n",
        "\n",
        "\n",
        "# create input sequences using list of tokens\n",
        "input_sequences = []\n",
        "for line in corpus:\n",
        "\ttoken_list = tokenizer.texts_to_sequences([line])[0]\n",
        "\tfor i in range(1, len(token_list)):\n",
        "\t\tn_gram_sequence = token_list[:i+1]\n",
        "\t\tinput_sequences.append(n_gram_sequence)\n",
        "\n",
        "\n",
        "# pad sequences \n",
        "max_sequence_len = max([len(x) for x in input_sequences])\n",
        "input_sequences =  np.array(pad_sequences(input_sequences, maxlen=max_sequence_len, padding='pre'))\n",
        "\n",
        "# create predictors and label\n",
        "predictors, label = input_sequences[:,:-1],input_sequences[:,-1]\n",
        "\n",
        "label = ku.to_categorical(label, num_classes=total_words)"
      ],
      "metadata": {
        "colab": {
          "base_uri": "https://localhost:8080/"
        },
        "id": "bjKVL_nyg6EX",
        "outputId": "c18354db-6c42-40a5-e673-4e74a0612c61"
      },
      "execution_count": null,
      "outputs": [
        {
          "output_type": "stream",
          "name": "stdout",
          "text": [
            "--2022-06-16 14:37:37--  https://storage.googleapis.com/laurencemoroney-blog.appspot.com/sonnets.txt\n",
            "Resolving storage.googleapis.com (storage.googleapis.com)... 142.251.45.16, 172.217.0.48, 172.217.2.112, ...\n",
            "Connecting to storage.googleapis.com (storage.googleapis.com)|142.251.45.16|:443... connected.\n",
            "HTTP request sent, awaiting response... 200 OK\n",
            "Length: 93578 (91K) [text/plain]\n",
            "Saving to: ‘/tmp/sonnets.txt’\n",
            "\n",
            "\r/tmp/sonnets.txt      0%[                    ]       0  --.-KB/s               \r/tmp/sonnets.txt    100%[===================>]  91.38K  --.-KB/s    in 0.001s  \n",
            "\n",
            "2022-06-16 14:37:37 (108 MB/s) - ‘/tmp/sonnets.txt’ saved [93578/93578]\n",
            "\n"
          ]
        }
      ]
    },
    {
      "cell_type": "code",
      "source": [
        "model = Sequential()\n",
        "model.add(Embedding(total_words, 100, input_length=max_sequence_len-1))  #(# Your Embedding Layer)\n",
        "model.add(Bidirectional(LSTM(150, return_sequences=True)))  #(# A Bidirectional LSTM Layer)\n",
        "model.add(Dropout(0.2))  #(# A dropout layer)\n",
        "model.add(LSTM(100))  #(# Another LSTM Layer)\n",
        "model.add(Dense(total_words/2, activation='relu'))  #(# A Dense Layer including regularizers)\n",
        "model.add(Dense(total_words, activation='softmax'))  #(# A Dense Layer)\n",
        "# Pick an optimizer\n",
        "model.compile(loss='categorical_crossentropy', optimizer='adam', metrics='accuracy')  #(# Pick a loss function and an optimizer)\n",
        "print(model.summary()) #print model summary"
      ],
      "metadata": {
        "id": "6GnoE7fchEp6",
        "outputId": "96d88584-f42f-41fd-d90a-6d3610ab5aaf",
        "colab": {
          "base_uri": "https://localhost:8080/"
        }
      },
      "execution_count": null,
      "outputs": [
        {
          "output_type": "stream",
          "name": "stdout",
          "text": [
            "Model: \"sequential\"\n",
            "_________________________________________________________________\n",
            " Layer (type)                Output Shape              Param #   \n",
            "=================================================================\n",
            " embedding (Embedding)       (None, 10, 100)           321100    \n",
            "                                                                 \n",
            " bidirectional (Bidirectiona  (None, 10, 300)          301200    \n",
            " l)                                                              \n",
            "                                                                 \n",
            " dropout (Dropout)           (None, 10, 300)           0         \n",
            "                                                                 \n",
            " lstm_1 (LSTM)               (None, 100)               160400    \n",
            "                                                                 \n",
            " dense (Dense)               (None, 1605)              162105    \n",
            "                                                                 \n",
            " dense_1 (Dense)             (None, 3211)              5156866   \n",
            "                                                                 \n",
            "=================================================================\n",
            "Total params: 6,101,671\n",
            "Trainable params: 6,101,671\n",
            "Non-trainable params: 0\n",
            "_________________________________________________________________\n",
            "None\n"
          ]
        }
      ]
    },
    {
      "cell_type": "code",
      "source": [
        " history = model.fit(predictors, label, epochs=100, verbose=1) #change the number of epochs after observing the plots later on at the point where the accuracy saturates"
      ],
      "metadata": {
        "id": "Se-rEkushRht",
        "outputId": "536e037a-5200-4cfd-fb8a-82975d1e1465",
        "colab": {
          "base_uri": "https://localhost:8080/"
        }
      },
      "execution_count": null,
      "outputs": [
        {
          "output_type": "stream",
          "name": "stdout",
          "text": [
            "Epoch 1/100\n",
            "484/484 [==============================] - 57s 105ms/step - loss: 6.8107 - accuracy: 0.0241\n",
            "Epoch 2/100\n",
            "484/484 [==============================] - 51s 105ms/step - loss: 6.4313 - accuracy: 0.0316\n",
            "Epoch 3/100\n",
            "484/484 [==============================] - 50s 103ms/step - loss: 6.2350 - accuracy: 0.0363\n",
            "Epoch 4/100\n",
            "484/484 [==============================] - 50s 104ms/step - loss: 6.0447 - accuracy: 0.0396\n",
            "Epoch 5/100\n",
            "484/484 [==============================] - 50s 103ms/step - loss: 5.7976 - accuracy: 0.0501\n",
            "Epoch 6/100\n",
            "484/484 [==============================] - 50s 103ms/step - loss: 5.5379 - accuracy: 0.0631\n",
            "Epoch 7/100\n",
            "484/484 [==============================] - 50s 103ms/step - loss: 5.2693 - accuracy: 0.0760\n",
            "Epoch 8/100\n",
            "484/484 [==============================] - 50s 103ms/step - loss: 4.9988 - accuracy: 0.0896\n",
            "Epoch 9/100\n",
            "484/484 [==============================] - 51s 106ms/step - loss: 4.7155 - accuracy: 0.1060\n",
            "Epoch 10/100\n",
            "484/484 [==============================] - 50s 103ms/step - loss: 4.4095 - accuracy: 0.1257\n",
            "Epoch 11/100\n",
            "484/484 [==============================] - 50s 103ms/step - loss: 4.0830 - accuracy: 0.1577\n",
            "Epoch 12/100\n",
            "484/484 [==============================] - 50s 102ms/step - loss: 3.7429 - accuracy: 0.1940\n",
            "Epoch 13/100\n",
            "484/484 [==============================] - 50s 103ms/step - loss: 3.3928 - accuracy: 0.2480\n",
            "Epoch 14/100\n",
            "484/484 [==============================] - 50s 103ms/step - loss: 3.0639 - accuracy: 0.3062\n",
            "Epoch 15/100\n",
            "484/484 [==============================] - 50s 104ms/step - loss: 2.7561 - accuracy: 0.3656\n",
            "Epoch 16/100\n",
            "484/484 [==============================] - 50s 103ms/step - loss: 2.4820 - accuracy: 0.4184\n",
            "Epoch 17/100\n",
            "484/484 [==============================] - 50s 103ms/step - loss: 2.2487 - accuracy: 0.4670\n",
            "Epoch 18/100\n",
            "484/484 [==============================] - 49s 102ms/step - loss: 2.0371 - accuracy: 0.5127\n",
            "Epoch 19/100\n",
            "484/484 [==============================] - 50s 102ms/step - loss: 1.8432 - accuracy: 0.5547\n",
            "Epoch 20/100\n",
            "484/484 [==============================] - 49s 102ms/step - loss: 1.6867 - accuracy: 0.5896\n",
            "Epoch 21/100\n",
            "484/484 [==============================] - 50s 104ms/step - loss: 1.5333 - accuracy: 0.6257\n",
            "Epoch 22/100\n",
            "484/484 [==============================] - 49s 102ms/step - loss: 1.4234 - accuracy: 0.6495\n",
            "Epoch 23/100\n",
            "484/484 [==============================] - 49s 102ms/step - loss: 1.3210 - accuracy: 0.6757\n",
            "Epoch 24/100\n",
            "484/484 [==============================] - 49s 102ms/step - loss: 1.2181 - accuracy: 0.7002\n",
            "Epoch 25/100\n",
            "484/484 [==============================] - 50s 103ms/step - loss: 1.1350 - accuracy: 0.7182\n",
            "Epoch 26/100\n",
            "484/484 [==============================] - 49s 102ms/step - loss: 1.0742 - accuracy: 0.7291\n",
            "Epoch 27/100\n",
            "484/484 [==============================] - 50s 102ms/step - loss: 1.0095 - accuracy: 0.7434\n",
            "Epoch 28/100\n",
            "484/484 [==============================] - 51s 104ms/step - loss: 0.9649 - accuracy: 0.7542\n",
            "Epoch 29/100\n",
            "484/484 [==============================] - 49s 102ms/step - loss: 0.9276 - accuracy: 0.7657\n",
            "Epoch 30/100\n",
            "484/484 [==============================] - 50s 102ms/step - loss: 0.8770 - accuracy: 0.7766\n",
            "Epoch 31/100\n",
            "484/484 [==============================] - 50s 102ms/step - loss: 0.8429 - accuracy: 0.7839\n",
            "Epoch 32/100\n",
            "484/484 [==============================] - 49s 102ms/step - loss: 0.8300 - accuracy: 0.7843\n",
            "Epoch 33/100\n",
            "484/484 [==============================] - 50s 103ms/step - loss: 0.8111 - accuracy: 0.7890\n",
            "Epoch 34/100\n",
            "484/484 [==============================] - 50s 104ms/step - loss: 0.7675 - accuracy: 0.8018\n",
            "Epoch 35/100\n",
            "484/484 [==============================] - 50s 102ms/step - loss: 0.7398 - accuracy: 0.8075\n",
            "Epoch 36/100\n",
            "484/484 [==============================] - 50s 102ms/step - loss: 0.7308 - accuracy: 0.8082\n",
            "Epoch 37/100\n",
            "484/484 [==============================] - 49s 102ms/step - loss: 0.7171 - accuracy: 0.8117\n",
            "Epoch 38/100\n",
            "484/484 [==============================] - 50s 103ms/step - loss: 0.7094 - accuracy: 0.8124\n",
            "Epoch 39/100\n",
            "484/484 [==============================] - 50s 103ms/step - loss: 0.7103 - accuracy: 0.8108\n",
            "Epoch 40/100\n",
            "484/484 [==============================] - 50s 104ms/step - loss: 0.6795 - accuracy: 0.8196\n",
            "Epoch 41/100\n",
            "484/484 [==============================] - 50s 102ms/step - loss: 0.6499 - accuracy: 0.8285\n",
            "Epoch 42/100\n",
            "484/484 [==============================] - 50s 102ms/step - loss: 0.6498 - accuracy: 0.8262\n",
            "Epoch 43/100\n",
            "484/484 [==============================] - 50s 103ms/step - loss: 0.6534 - accuracy: 0.8236\n",
            "Epoch 44/100\n",
            "484/484 [==============================] - 50s 103ms/step - loss: 0.6505 - accuracy: 0.8238\n",
            "Epoch 45/100\n",
            "484/484 [==============================] - 50s 104ms/step - loss: 0.6400 - accuracy: 0.8252\n",
            "Epoch 46/100\n",
            "484/484 [==============================] - 50s 104ms/step - loss: 0.6325 - accuracy: 0.8289\n",
            "Epoch 47/100\n",
            "484/484 [==============================] - 51s 105ms/step - loss: 0.6234 - accuracy: 0.8283\n",
            "Epoch 48/100\n",
            "484/484 [==============================] - 49s 102ms/step - loss: 0.6116 - accuracy: 0.8306\n",
            "Epoch 49/100\n",
            "484/484 [==============================] - 50s 102ms/step - loss: 0.6351 - accuracy: 0.8247\n",
            "Epoch 50/100\n",
            "484/484 [==============================] - 49s 102ms/step - loss: 0.6221 - accuracy: 0.8277\n",
            "Epoch 51/100\n",
            "484/484 [==============================] - 50s 102ms/step - loss: 0.5982 - accuracy: 0.8351\n",
            "Epoch 52/100\n",
            "484/484 [==============================] - 50s 102ms/step - loss: 0.5874 - accuracy: 0.8359\n",
            "Epoch 53/100\n",
            "484/484 [==============================] - 51s 105ms/step - loss: 0.5791 - accuracy: 0.8384\n",
            "Epoch 54/100\n",
            "484/484 [==============================] - 50s 103ms/step - loss: 0.5784 - accuracy: 0.8373\n",
            "Epoch 55/100\n",
            "484/484 [==============================] - 50s 103ms/step - loss: 0.6039 - accuracy: 0.8307\n",
            "Epoch 56/100\n",
            "484/484 [==============================] - 50s 103ms/step - loss: 0.6030 - accuracy: 0.8302\n",
            "Epoch 57/100\n",
            "484/484 [==============================] - 50s 103ms/step - loss: 0.5799 - accuracy: 0.8349\n",
            "Epoch 58/100\n",
            "484/484 [==============================] - 50s 103ms/step - loss: 0.5829 - accuracy: 0.8342\n",
            "Epoch 59/100\n",
            "484/484 [==============================] - 51s 105ms/step - loss: 0.5716 - accuracy: 0.8352\n",
            "Epoch 60/100\n",
            "484/484 [==============================] - 50s 103ms/step - loss: 0.5738 - accuracy: 0.8386\n",
            "Epoch 61/100\n",
            "484/484 [==============================] - 50s 103ms/step - loss: 0.5729 - accuracy: 0.8360\n",
            "Epoch 62/100\n",
            "484/484 [==============================] - 50s 104ms/step - loss: 0.5635 - accuracy: 0.8384\n",
            "Epoch 63/100\n",
            "484/484 [==============================] - 50s 104ms/step - loss: 0.5708 - accuracy: 0.8375\n",
            "Epoch 64/100\n",
            "484/484 [==============================] - 50s 103ms/step - loss: 0.5646 - accuracy: 0.8374\n",
            "Epoch 65/100\n",
            "484/484 [==============================] - 51s 105ms/step - loss: 0.5435 - accuracy: 0.8434\n",
            "Epoch 66/100\n",
            "484/484 [==============================] - 51s 104ms/step - loss: 0.5501 - accuracy: 0.8400\n",
            "Epoch 67/100\n",
            "484/484 [==============================] - 50s 104ms/step - loss: 0.5631 - accuracy: 0.8361\n",
            "Epoch 68/100\n",
            "484/484 [==============================] - 51s 104ms/step - loss: 0.5704 - accuracy: 0.8362\n",
            "Epoch 69/100\n",
            "484/484 [==============================] - 50s 104ms/step - loss: 0.5564 - accuracy: 0.8390\n",
            "Epoch 70/100\n",
            "484/484 [==============================] - 50s 104ms/step - loss: 0.5534 - accuracy: 0.8382\n",
            "Epoch 71/100\n",
            "484/484 [==============================] - 51s 105ms/step - loss: 0.5545 - accuracy: 0.8381\n",
            "Epoch 72/100\n",
            "484/484 [==============================] - 50s 102ms/step - loss: 0.5664 - accuracy: 0.8353\n",
            "Epoch 73/100\n",
            "484/484 [==============================] - 50s 103ms/step - loss: 0.5377 - accuracy: 0.8434\n",
            "Epoch 74/100\n",
            "484/484 [==============================] - 50s 104ms/step - loss: 0.5356 - accuracy: 0.8423\n",
            "Epoch 75/100\n",
            "484/484 [==============================] - 50s 103ms/step - loss: 0.5348 - accuracy: 0.8452\n",
            "Epoch 76/100\n",
            "484/484 [==============================] - 50s 103ms/step - loss: 0.5427 - accuracy: 0.8401\n",
            "Epoch 77/100\n",
            "484/484 [==============================] - 51s 105ms/step - loss: 0.5438 - accuracy: 0.8404\n",
            "Epoch 78/100\n",
            "484/484 [==============================] - 50s 103ms/step - loss: 0.5410 - accuracy: 0.8415\n",
            "Epoch 79/100\n",
            "484/484 [==============================] - 50s 102ms/step - loss: 0.5371 - accuracy: 0.8428\n",
            "Epoch 80/100\n",
            "484/484 [==============================] - 50s 103ms/step - loss: 0.5244 - accuracy: 0.8450\n",
            "Epoch 81/100\n",
            "484/484 [==============================] - 50s 104ms/step - loss: 0.5313 - accuracy: 0.8432\n",
            "Epoch 82/100\n",
            "484/484 [==============================] - 50s 103ms/step - loss: 0.5346 - accuracy: 0.8424\n",
            "Epoch 83/100\n",
            "484/484 [==============================] - 51s 105ms/step - loss: 0.5356 - accuracy: 0.8412\n",
            "Epoch 84/100\n",
            "484/484 [==============================] - 50s 103ms/step - loss: 0.5259 - accuracy: 0.8426\n",
            "Epoch 85/100\n",
            "484/484 [==============================] - 50s 103ms/step - loss: 0.5337 - accuracy: 0.8399\n",
            "Epoch 86/100\n",
            "484/484 [==============================] - 50s 103ms/step - loss: 0.5244 - accuracy: 0.8414\n",
            "Epoch 87/100\n",
            "484/484 [==============================] - 50s 103ms/step - loss: 0.5235 - accuracy: 0.8452\n",
            "Epoch 88/100\n",
            "484/484 [==============================] - 50s 103ms/step - loss: 0.5245 - accuracy: 0.8437\n",
            "Epoch 89/100\n",
            "484/484 [==============================] - 51s 105ms/step - loss: 0.5168 - accuracy: 0.8437\n",
            "Epoch 90/100\n",
            "484/484 [==============================] - 50s 104ms/step - loss: 0.5189 - accuracy: 0.8445\n",
            "Epoch 91/100\n",
            "484/484 [==============================] - 50s 104ms/step - loss: 0.5247 - accuracy: 0.8437\n",
            "Epoch 92/100\n",
            "484/484 [==============================] - 50s 104ms/step - loss: 0.5253 - accuracy: 0.8438\n",
            "Epoch 93/100\n",
            "484/484 [==============================] - 51s 105ms/step - loss: 0.5186 - accuracy: 0.8449\n",
            "Epoch 94/100\n",
            "484/484 [==============================] - 50s 104ms/step - loss: 0.5269 - accuracy: 0.8402\n",
            "Epoch 95/100\n",
            "484/484 [==============================] - 51s 105ms/step - loss: 0.5236 - accuracy: 0.8438\n",
            "Epoch 96/100\n",
            "484/484 [==============================] - 51s 106ms/step - loss: 0.5196 - accuracy: 0.8439\n",
            "Epoch 97/100\n",
            "484/484 [==============================] - 51s 104ms/step - loss: 0.5213 - accuracy: 0.8427\n",
            "Epoch 98/100\n",
            "484/484 [==============================] - 50s 104ms/step - loss: 0.5224 - accuracy: 0.8417\n",
            "Epoch 99/100\n",
            "484/484 [==============================] - 51s 106ms/step - loss: 0.5149 - accuracy: 0.8448\n",
            "Epoch 100/100\n",
            "484/484 [==============================] - 51s 105ms/step - loss: 0.5121 - accuracy: 0.8447\n"
          ]
        }
      ]
    },
    {
      "cell_type": "code",
      "source": [
        "import matplotlib.pyplot as plt\n",
        "acc = history.history['accuracy']\n",
        "loss = history.history['loss']\n",
        "\n",
        "epochs = range(len(acc))\n",
        "\n",
        "plt.plot(epochs, acc, 'b', label='Training accuracy')\n",
        "plt.title('Training accuracy')\n",
        "\n",
        "plt.figure()\n",
        "\n",
        "plt.plot(epochs, loss, 'b', label='Training Loss')\n",
        "plt.title('Training loss')\n",
        "plt.legend()\n",
        "\n",
        "plt.show()"
      ],
      "metadata": {
        "id": "HMq2MUuohVAw",
        "outputId": "a2858619-f2df-4482-d2f0-96f84580def3",
        "colab": {
          "base_uri": "https://localhost:8080/",
          "height": 545
        }
      },
      "execution_count": null,
      "outputs": [
        {
          "output_type": "display_data",
          "data": {
            "text/plain": [
              "<Figure size 432x288 with 1 Axes>"
            ],
            "image/png": "[encoded data removed]"
          },
          "metadata": {
            "needs_background": "light"
          }
        },
        {
          "output_type": "display_data",
          "data": {
            "text/plain": [
              "<Figure size 432x288 with 1 Axes>"
            ],
            "image/png": "[encoded data removed]"
          },
          "metadata": {
            "needs_background": "light"
          }
        }
      ]
    },
    {
      "cell_type": "code",
      "source": [
        "seed_text = \"Help me Obi Wan Kenobi, you're my only hope\"\n",
        "next_words = 80 #Play with this quantity to change the number of words you want to see in the output after the seed_text\n",
        "\n",
        "for _ in range(next_words):\n",
        "  token_list = tokenizer.texts_to_sequences([seed_text])[0]\n",
        "  token_list = pad_sequences([token_list], maxlen=max_sequence_len-1, padding='pre')\n",
        "  predict_x = model.predict(token_list)\n",
        "  classes_x = np.argmax(predict_x, axis=1)\n",
        "  output_word = \"\"\n",
        "  for word, index in tokenizer.word_index.items():\n",
        "    if index == classes_x:\n",
        "      output_word = word\n",
        "      break\n",
        "  seed_text += \" \" + output_word\n",
        "print(seed_text)"
      ],
      "metadata": {
        "id": "j5Q2VQek4ebV",
        "outputId": "464272c8-1d4a-4700-e03c-f8f9fb262b49",
        "colab": {
          "base_uri": "https://localhost:8080/"
        }
      },
      "execution_count": null,
      "outputs": [
        {
          "output_type": "stream",
          "name": "stdout",
          "text": [
            "Help me Obi Wan Kenobi, you're my only hope thy love will befits my love live young thine ' be me alone or me needing call bright behold not green not live so dear nearly do lie with thee still me bright dost lie away tender'd me ' me more nearly are tender'd me bright ' of thee done not still bright dost lie thence more ' not still me bright not abused lie with me swearing swearing thy tomb the world away bent my sight my gain doth\n"
          ]
        }
      ]
    }
  ]
}